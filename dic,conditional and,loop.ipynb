{
 "cells": [
  {
   "cell_type": "code",
   "execution_count": 1,
   "id": "6ef39f84-4411-4d0a-9451-fbcc71aab3b8",
   "metadata": {},
   "outputs": [],
   "source": [
    "d={}"
   ]
  },
  {
   "cell_type": "code",
   "execution_count": 2,
   "id": "0ac93e74-3ae4-4ca1-a75b-6b4724c12ed2",
   "metadata": {},
   "outputs": [
    {
     "data": {
      "text/plain": [
       "dict"
      ]
     },
     "execution_count": 2,
     "metadata": {},
     "output_type": "execute_result"
    }
   ],
   "source": [
    "type(d)"
   ]
  },
  {
   "cell_type": "code",
   "execution_count": 3,
   "id": "caeeaf80-2b8a-4527-bec7-c8867042a721",
   "metadata": {},
   "outputs": [],
   "source": [
    "d1={'key':'ancho'}"
   ]
  },
  {
   "cell_type": "code",
   "execution_count": 4,
   "id": "02596dbc-e169-46aa-81e9-4ebad9f5a11b",
   "metadata": {},
   "outputs": [
    {
     "data": {
      "text/plain": [
       "{'key': 'ancho'}"
      ]
     },
     "execution_count": 4,
     "metadata": {},
     "output_type": "execute_result"
    }
   ],
   "source": [
    "d1"
   ]
  },
  {
   "cell_type": "code",
   "execution_count": 3,
   "id": "35700f07-2ecf-4be5-8c01-8b2aec82d057",
   "metadata": {},
   "outputs": [],
   "source": [
    "d2={\"father\":\"krishna\", \"name\":\"pranay\" ,\"email\":\"pranay4krishna@gamil.com\",\"number\":6204988}"
   ]
  },
  {
   "cell_type": "code",
   "execution_count": 4,
   "id": "4915078d-ac35-42f0-9df8-3567609c3e8c",
   "metadata": {},
   "outputs": [
    {
     "data": {
      "text/plain": [
       "{'father': 'krishna',\n",
       " 'name': 'pranay',\n",
       " 'email': 'pranay4krishna@gamil.com',\n",
       " 'number': 6204988}"
      ]
     },
     "execution_count": 4,
     "metadata": {},
     "output_type": "execute_result"
    }
   ],
   "source": [
    "d2"
   ]
  },
  {
   "cell_type": "code",
   "execution_count": 5,
   "id": "39baac06-d385-4a4e-8b12-63d761291f92",
   "metadata": {},
   "outputs": [
    {
     "data": {
      "text/plain": [
       "{'father': 'krishna',\n",
       " 'name': 'pranay',\n",
       " 'email': 'pranay4krishna@gamil.com',\n",
       " 'number': 6204988}"
      ]
     },
     "execution_count": 5,
     "metadata": {},
     "output_type": "execute_result"
    }
   ],
   "source": [
    "d2"
   ]
  },
  {
   "cell_type": "code",
   "execution_count": 6,
   "id": "1398f5ce-9e44-41e6-9d0d-de342a62a01b",
   "metadata": {},
   "outputs": [],
   "source": [
    "d3={234:\"aaksh\"}"
   ]
  },
  {
   "cell_type": "code",
   "execution_count": 7,
   "id": "fd174d17-8fa0-4938-ab33-efdb96ff6aaf",
   "metadata": {},
   "outputs": [
    {
     "data": {
      "text/plain": [
       "{234: 'aaksh'}"
      ]
     },
     "execution_count": 7,
     "metadata": {},
     "output_type": "execute_result"
    }
   ],
   "source": [
    "d3"
   ]
  },
  {
   "cell_type": "code",
   "execution_count": 8,
   "id": "a6a83da2-2d36-492e-b8d2-a001146d8bc6",
   "metadata": {},
   "outputs": [],
   "source": [
    "d4={345:\"defo\" ,True:\"demo\",\"eger\":\"falter\",\"false\":\"gambler\"}"
   ]
  },
  {
   "cell_type": "code",
   "execution_count": 9,
   "id": "d0242a76-9a9b-4f4b-9501-67ed17621a4f",
   "metadata": {},
   "outputs": [
    {
     "data": {
      "text/plain": [
       "{345: 'defo', True: 'demo', 'eger': 'falter', 'false': 'gambler'}"
      ]
     },
     "execution_count": 9,
     "metadata": {},
     "output_type": "execute_result"
    }
   ],
   "source": [
    "d4"
   ]
  },
  {
   "cell_type": "code",
   "execution_count": 11,
   "id": "91cc3cee-ccb4-480f-ae29-82c069e35c55",
   "metadata": {},
   "outputs": [
    {
     "data": {
      "text/plain": [
       "'defo'"
      ]
     },
     "execution_count": 11,
     "metadata": {},
     "output_type": "execute_result"
    }
   ],
   "source": [
    "d4[345]"
   ]
  },
  {
   "cell_type": "code",
   "execution_count": 12,
   "id": "1a648169-607c-4833-9678-50f7536e3d8e",
   "metadata": {},
   "outputs": [
    {
     "data": {
      "text/plain": [
       "'demo'"
      ]
     },
     "execution_count": 12,
     "metadata": {},
     "output_type": "execute_result"
    }
   ],
   "source": [
    "d4[True]"
   ]
  },
  {
   "cell_type": "code",
   "execution_count": 14,
   "id": "a1c21c7b-d416-4e74-88d4-c94da4c98a48",
   "metadata": {},
   "outputs": [
    {
     "data": {
      "text/plain": [
       "'gambler'"
      ]
     },
     "execution_count": 14,
     "metadata": {},
     "output_type": "execute_result"
    }
   ],
   "source": [
    "d4['false']"
   ]
  },
  {
   "cell_type": "code",
   "execution_count": 16,
   "id": "9ef9cb8b-7e4c-4a75-b853-1735065d754f",
   "metadata": {},
   "outputs": [
    {
     "data": {
      "text/plain": [
       "'falter'"
      ]
     },
     "execution_count": 16,
     "metadata": {},
     "output_type": "execute_result"
    }
   ],
   "source": [
    "d4[\"eger\"]"
   ]
  },
  {
   "cell_type": "code",
   "execution_count": 17,
   "id": "2548352f-5041-42b3-8727-15fcb88a4325",
   "metadata": {},
   "outputs": [
    {
     "data": {
      "text/plain": [
       "'demo'"
      ]
     },
     "execution_count": 17,
     "metadata": {},
     "output_type": "execute_result"
    }
   ],
   "source": [
    "d4[1]"
   ]
  },
  {
   "cell_type": "code",
   "execution_count": 19,
   "id": "f38830a5-8cba-407b-96be-de8f09a034e1",
   "metadata": {},
   "outputs": [],
   "source": [
    "d5={\"name\":\"pranay\" ,\"email_ad\":\"pranay4krishna@gmail.com\" ,\"name\":\"krishna\"}"
   ]
  },
  {
   "cell_type": "code",
   "execution_count": 20,
   "id": "93174d9d-061d-4ead-b82f-354db9ee9756",
   "metadata": {},
   "outputs": [
    {
     "data": {
      "text/plain": [
       "'krishna'"
      ]
     },
     "execution_count": 20,
     "metadata": {},
     "output_type": "execute_result"
    }
   ],
   "source": [
    "d5[\"name\"]"
   ]
  },
  {
   "cell_type": "code",
   "execution_count": 21,
   "id": "3c891001-1a4f-4626-98a1-3ff0820fb0ba",
   "metadata": {},
   "outputs": [],
   "source": [
    "d6={\"company\":\"pwskills\",\"course\":[\"data science\",\"web development\",\"java with dsa system design\"]}"
   ]
  },
  {
   "cell_type": "code",
   "execution_count": 22,
   "id": "67a151cd-404f-4f78-a331-7835996f3ebf",
   "metadata": {},
   "outputs": [
    {
     "data": {
      "text/plain": [
       "{'company': 'pwskills',\n",
       " 'course': ['data science', 'web development', 'java with dsa system design']}"
      ]
     },
     "execution_count": 22,
     "metadata": {},
     "output_type": "execute_result"
    }
   ],
   "source": [
    "d6"
   ]
  },
  {
   "cell_type": "code",
   "execution_count": 23,
   "id": "0bb6b6de-2122-46e1-9754-1862e725c060",
   "metadata": {},
   "outputs": [
    {
     "data": {
      "text/plain": [
       "['data science', 'web development', 'java with dsa system design']"
      ]
     },
     "execution_count": 23,
     "metadata": {},
     "output_type": "execute_result"
    }
   ],
   "source": [
    "d6[\"course\"]"
   ]
  },
  {
   "cell_type": "code",
   "execution_count": 24,
   "id": "ee303879-d92f-4e12-af20-3af6db1bad45",
   "metadata": {},
   "outputs": [
    {
     "data": {
      "text/plain": [
       "'java with dsa system design'"
      ]
     },
     "execution_count": 24,
     "metadata": {},
     "output_type": "execute_result"
    }
   ],
   "source": [
    "d6[\"course\"][2]"
   ]
  },
  {
   "cell_type": "code",
   "execution_count": 31,
   "id": "310ea1fe-ccc2-44d3-9c32-6c03cd187908",
   "metadata": {},
   "outputs": [],
   "source": [
    "d7={\"number\":[23,3,5,7,8,],\"assignment\":(1,2,3,4,5,7),\"launch_date\":{28,12,24},\"class_timing\":{\"web_dev\":8, \"data science masters\":8, \"data with dsa and system design\":7}}"
   ]
  },
  {
   "cell_type": "code",
   "execution_count": 32,
   "id": "499c0211-9c98-4556-98a6-c205ce494dd5",
   "metadata": {},
   "outputs": [
    {
     "data": {
      "text/plain": [
       "{'number': [23, 3, 5, 7, 8],\n",
       " 'assignment': (1, 2, 3, 4, 5, 7),\n",
       " 'launch_date': {12, 24, 28},\n",
       " 'class_timing': {'web_dev': 8,\n",
       "  'data science masters': 8,\n",
       "  'data with dsa and system design': 7}}"
      ]
     },
     "execution_count": 32,
     "metadata": {},
     "output_type": "execute_result"
    }
   ],
   "source": [
    "d7"
   ]
  },
  {
   "cell_type": "code",
   "execution_count": 27,
   "id": "5eb696ca-c698-4689-8cf5-b30ddd38a0f2",
   "metadata": {},
   "outputs": [
    {
     "data": {
      "text/plain": [
       "[23, 3, 5, 7, 8]"
      ]
     },
     "execution_count": 27,
     "metadata": {},
     "output_type": "execute_result"
    }
   ],
   "source": [
    "d7[\"number\"]"
   ]
  },
  {
   "cell_type": "code",
   "execution_count": 28,
   "id": "523bc07e-4237-410c-a1b9-39b106a78eac",
   "metadata": {},
   "outputs": [
    {
     "data": {
      "text/plain": [
       "(1, 2, 3, 4, 5, 7)"
      ]
     },
     "execution_count": 28,
     "metadata": {},
     "output_type": "execute_result"
    }
   ],
   "source": [
    "d7[\"assignment\"]"
   ]
  },
  {
   "cell_type": "code",
   "execution_count": 35,
   "id": "65851161-808e-4378-895e-e8a428d83776",
   "metadata": {},
   "outputs": [
    {
     "data": {
      "text/plain": [
       "7"
      ]
     },
     "execution_count": 35,
     "metadata": {},
     "output_type": "execute_result"
    }
   ],
   "source": [
    "d7[\"class_timing\"][\"data with dsa and system design\"]"
   ]
  },
  {
   "cell_type": "code",
   "execution_count": 36,
   "id": "bc3e61d3-ad62-4df2-afb1-6c7146fa6ca9",
   "metadata": {},
   "outputs": [
    {
     "data": {
      "text/plain": [
       "{'number': [23, 3, 5, 7, 8],\n",
       " 'assignment': (1, 2, 3, 4, 5, 7),\n",
       " 'launch_date': {12, 24, 28},\n",
       " 'class_timing': {'web_dev': 8,\n",
       "  'data science masters': 8,\n",
       "  'data with dsa and system design': 7}}"
      ]
     },
     "execution_count": 36,
     "metadata": {},
     "output_type": "execute_result"
    }
   ],
   "source": [
    "d7"
   ]
  },
  {
   "cell_type": "code",
   "execution_count": 37,
   "id": "c6c9e437-cf30-4f10-ba5c-67630ab1098e",
   "metadata": {},
   "outputs": [],
   "source": [
    "d7[\"menor\"]=[\"shudhanshu\",\"krish\",\"hyder\"]"
   ]
  },
  {
   "cell_type": "code",
   "execution_count": 38,
   "id": "20f7e85b-7fe9-475a-ba72-a5fbe55f804e",
   "metadata": {},
   "outputs": [
    {
     "data": {
      "text/plain": [
       "{'number': [23, 3, 5, 7, 8],\n",
       " 'assignment': (1, 2, 3, 4, 5, 7),\n",
       " 'launch_date': {12, 24, 28},\n",
       " 'class_timing': {'web_dev': 8,\n",
       "  'data science masters': 8,\n",
       "  'data with dsa and system design': 7},\n",
       " 'menor': ['shudhanshu', 'krish', 'hyder']}"
      ]
     },
     "execution_count": 38,
     "metadata": {},
     "output_type": "execute_result"
    }
   ],
   "source": [
    "d7"
   ]
  },
  {
   "cell_type": "code",
   "execution_count": 41,
   "id": "2d573b18-3cc0-499c-bbf0-4c9340d9a1b3",
   "metadata": {},
   "outputs": [],
   "source": [
    "del d7['number']"
   ]
  },
  {
   "cell_type": "code",
   "execution_count": 42,
   "id": "407cbbc6-66e1-4b54-b898-baa2a6509bec",
   "metadata": {},
   "outputs": [
    {
     "data": {
      "text/plain": [
       "{'assignment': (1, 2, 3, 4, 5, 7),\n",
       " 'launch_date': {12, 24, 28},\n",
       " 'class_timing': {'web_dev': 8,\n",
       "  'data science masters': 8,\n",
       "  'data with dsa and system design': 7},\n",
       " 'menor': ['shudhanshu', 'krish', 'hyder']}"
      ]
     },
     "execution_count": 42,
     "metadata": {},
     "output_type": "execute_result"
    }
   ],
   "source": [
    "d7"
   ]
  },
  {
   "cell_type": "code",
   "execution_count": 43,
   "id": "35a5d593-02b2-4572-8db2-c3b8d585a026",
   "metadata": {},
   "outputs": [
    {
     "data": {
      "text/plain": [
       "dict_keys(['assignment', 'launch_date', 'class_timing', 'menor'])"
      ]
     },
     "execution_count": 43,
     "metadata": {},
     "output_type": "execute_result"
    }
   ],
   "source": [
    "d7.keys()"
   ]
  },
  {
   "cell_type": "code",
   "execution_count": 44,
   "id": "dff2735e-fde8-4261-b021-82564ab2d7cf",
   "metadata": {},
   "outputs": [
    {
     "data": {
      "text/plain": [
       "['assignment', 'launch_date', 'class_timing', 'menor']"
      ]
     },
     "execution_count": 44,
     "metadata": {},
     "output_type": "execute_result"
    }
   ],
   "source": [
    "list(d7.keys())"
   ]
  },
  {
   "cell_type": "code",
   "execution_count": 46,
   "id": "7bb2f2df-7fce-4ccc-8101-682afdf3451a",
   "metadata": {},
   "outputs": [
    {
     "data": {
      "text/plain": [
       "[(1, 2, 3, 4, 5, 7),\n",
       " {12, 24, 28},\n",
       " {'web_dev': 8,\n",
       "  'data science masters': 8,\n",
       "  'data with dsa and system design': 7},\n",
       " ['shudhanshu', 'krish', 'hyder']]"
      ]
     },
     "execution_count": 46,
     "metadata": {},
     "output_type": "execute_result"
    }
   ],
   "source": [
    "list(d7.values())"
   ]
  },
  {
   "cell_type": "code",
   "execution_count": 48,
   "id": "02c9a74a-1760-4372-aef0-b9f263291835",
   "metadata": {},
   "outputs": [
    {
     "data": {
      "text/plain": [
       "[('assignment', (1, 2, 3, 4, 5, 7)),\n",
       " ('launch_date', {12, 24, 28}),\n",
       " ('class_timing',\n",
       "  {'web_dev': 8,\n",
       "   'data science masters': 8,\n",
       "   'data with dsa and system design': 7}),\n",
       " ('menor', ['shudhanshu', 'krish', 'hyder'])]"
      ]
     },
     "execution_count": 48,
     "metadata": {},
     "output_type": "execute_result"
    }
   ],
   "source": [
    "list(d7.items())"
   ]
  },
  {
   "cell_type": "code",
   "execution_count": 49,
   "id": "73dfb829-46d9-4e3a-a905-31be77cac723",
   "metadata": {},
   "outputs": [
    {
     "data": {
      "text/plain": [
       "(1, 2, 3, 4, 5, 7)"
      ]
     },
     "execution_count": 49,
     "metadata": {},
     "output_type": "execute_result"
    }
   ],
   "source": [
    "d7.pop(\"assignment\")"
   ]
  },
  {
   "cell_type": "code",
   "execution_count": 50,
   "id": "782df8eb-0135-4a8d-89e6-93c9caeaeb22",
   "metadata": {},
   "outputs": [
    {
     "data": {
      "text/plain": [
       "{'launch_date': {12, 24, 28},\n",
       " 'class_timing': {'web_dev': 8,\n",
       "  'data science masters': 8,\n",
       "  'data with dsa and system design': 7},\n",
       " 'menor': ['shudhanshu', 'krish', 'hyder']}"
      ]
     },
     "execution_count": 50,
     "metadata": {},
     "output_type": "execute_result"
    }
   ],
   "source": [
    "d7"
   ]
  },
  {
   "cell_type": "code",
   "execution_count": null,
   "id": "b4d5e16c-0fe5-4cab-8131-b4877d17eab9",
   "metadata": {},
   "outputs": [],
   "source": [
    "marks=40\n",
    "if marks >=80:\n",
    "    print(\"you will be a part of A0 batch\")\n",
    "elif marks >= 60 and marks <80:\n",
    "    print(\"you wil be a part of A1 batch \")\n",
    "elif marks >= 40 and marks <60:\n",
    "    print(\"you will be a part of A3 batch\")\n",
    "else:\n",
    "    print(\"you will be a part of A3 batch\")\n"
   ]
  },
  {
   "cell_type": "code",
   "execution_count": 17,
   "id": "05410b1f-de8f-49b6-a328-ccb2fe2e3475",
   "metadata": {},
   "outputs": [
    {
     "name": "stdin",
     "output_type": "stream",
     "text": [
      "enter your marks 90\n"
     ]
    },
    {
     "name": "stdout",
     "output_type": "stream",
     "text": [
      "you will be a part of A0 batch\n"
     ]
    }
   ],
   "source": [
    "marks=int(input(\"enter your marks\"))\n",
    "if marks >=80:\n",
    "    print(\"you will be a part of A0 batch\")\n",
    "elif marks >= 60 and marks <80:\n",
    "    print(\"you wil be a part of A1 batch \")\n",
    "elif marks >= 40 and marks <60:\n",
    "    print(\"you will be a part of A3 batch\")\n",
    "else:\n",
    "    print(\"you will be a part of A3 batch\")\n"
   ]
  },
  {
   "cell_type": "code",
   "execution_count": 2,
   "id": "890a263d-f32e-4527-9207-ff2b09d62878",
   "metadata": {},
   "outputs": [
    {
     "data": {
      "text/plain": [
       "False"
      ]
     },
     "execution_count": 2,
     "metadata": {},
     "output_type": "execute_result"
    }
   ],
   "source": [
    "10>=80"
   ]
  },
  {
   "cell_type": "code",
   "execution_count": 12,
   "id": "ca72fcbe-d58c-4dbb-81fa-363fab4f6bee",
   "metadata": {},
   "outputs": [
    {
     "name": "stdin",
     "output_type": "stream",
     "text": [
      "enter your marks 324\n"
     ]
    }
   ],
   "source": [
    "marks=int(input(\"enter your marks\"))"
   ]
  },
  {
   "cell_type": "code",
   "execution_count": 13,
   "id": "2b075a92-dd25-4807-80fd-022c57c92174",
   "metadata": {},
   "outputs": [
    {
     "data": {
      "text/plain": [
       "324"
      ]
     },
     "execution_count": 13,
     "metadata": {},
     "output_type": "execute_result"
    }
   ],
   "source": [
    "marks"
   ]
  },
  {
   "cell_type": "code",
   "execution_count": 14,
   "id": "8b9a58c3-929b-4795-b90a-76afe767ca09",
   "metadata": {},
   "outputs": [
    {
     "data": {
      "text/plain": [
       "int"
      ]
     },
     "execution_count": 14,
     "metadata": {},
     "output_type": "execute_result"
    }
   ],
   "source": [
    "type(marks)"
   ]
  },
  {
   "cell_type": "code",
   "execution_count": 18,
   "id": "6f4663a8-7cac-4851-be0a-54aac4982cc0",
   "metadata": {},
   "outputs": [
    {
     "name": "stdin",
     "output_type": "stream",
     "text": [
      "enter price 500\n"
     ]
    },
    {
     "name": "stdout",
     "output_type": "stream",
     "text": [
      "i will purchase\n"
     ]
    }
   ],
   "source": [
    "price=int(input(\"enter price\"))\n",
    "if price >1000:\n",
    "    print(\"i will not purchase\")\n",
    "else:\n",
    "    print(\"i will purchase\")"
   ]
  },
  {
   "cell_type": "code",
   "execution_count": 19,
   "id": "998c3816-35f6-4a91-a288-9b51a771739a",
   "metadata": {},
   "outputs": [
    {
     "name": "stdin",
     "output_type": "stream",
     "text": [
      "enter price 7000\n"
     ]
    },
    {
     "name": "stdout",
     "output_type": "stream",
     "text": [
      "i will not purchase\n"
     ]
    }
   ],
   "source": [
    "price=int(input(\"enter price\"))\n",
    "if price >1000:\n",
    "    print(\"i will not purchase\")"
   ]
  },
  {
   "cell_type": "code",
   "execution_count": 20,
   "id": "8f0f7a62-345c-4713-9a6c-5195d4849463",
   "metadata": {},
   "outputs": [
    {
     "name": "stdin",
     "output_type": "stream",
     "text": [
      "enter price 600\n"
     ]
    }
   ],
   "source": [
    "price=int(input(\"enter price\"))\n",
    "if price >1000:\n",
    "    print(\"i will not purchase\")"
   ]
  },
  {
   "cell_type": "code",
   "execution_count": 21,
   "id": "e103d685-7d32-40d5-98ac-39dcc09128a3",
   "metadata": {},
   "outputs": [
    {
     "name": "stdin",
     "output_type": "stream",
     "text": [
      "enter price 6000\n"
     ]
    },
    {
     "name": "stdout",
     "output_type": "stream",
     "text": [
      "i will not purchase\n",
      "this is too much\n"
     ]
    }
   ],
   "source": [
    "price=int(input(\"enter price\"))\n",
    "if price >1000:\n",
    "    print(\"i will not purchase\")\n",
    "if price >5000:\n",
    "    print(\"this is too much\")\n"
   ]
  },
  {
   "cell_type": "code",
   "execution_count": 23,
   "id": "cd300733-bf30-46c6-bb18-26dc5e65ed6b",
   "metadata": {},
   "outputs": [
    {
     "name": "stdin",
     "output_type": "stream",
     "text": [
      "enter price 650\n"
     ]
    },
    {
     "name": "stdout",
     "output_type": "stream",
     "text": [
      "it's ok\n"
     ]
    }
   ],
   "source": [
    "price=int(input(\"enter price\"))\n",
    "if price >1000:\n",
    "    print(\"i will not purchase\")\n",
    "if price >5000:\n",
    "    print(\"this is too much\")\n",
    "elif price <2000:\n",
    "    print(\"it's ok\")\n",
    "elif price <1000:\n",
    "    print(\"i will purchase\")\n",
    "else :\n",
    "    print(\"not interesrted \")\n"
   ]
  },
  {
   "cell_type": "code",
   "execution_count": 24,
   "id": "b356ba3f-6e63-4c49-800a-fc4d48c45241",
   "metadata": {},
   "outputs": [],
   "source": [
    "l=[1,2,3,3,4,5,6,7,8]"
   ]
  },
  {
   "cell_type": "code",
   "execution_count": 25,
   "id": "d516cb87-f3e9-4f70-9a3b-1ff8f81b9acd",
   "metadata": {},
   "outputs": [
    {
     "data": {
      "text/plain": [
       "2"
      ]
     },
     "execution_count": 25,
     "metadata": {},
     "output_type": "execute_result"
    }
   ],
   "source": [
    "l[0]+1"
   ]
  },
  {
   "cell_type": "code",
   "execution_count": 26,
   "id": "b581c994-568b-4300-93ce-3728e43c6c19",
   "metadata": {},
   "outputs": [],
   "source": [
    "l1=[]"
   ]
  },
  {
   "cell_type": "code",
   "execution_count": 27,
   "id": "e405f33e-f640-402c-b7c5-579227e6f272",
   "metadata": {},
   "outputs": [],
   "source": [
    "l1.append(l[0]+1)"
   ]
  },
  {
   "cell_type": "code",
   "execution_count": 28,
   "id": "e390dc02-825d-4730-ad05-d232d240a759",
   "metadata": {},
   "outputs": [
    {
     "data": {
      "text/plain": [
       "[2]"
      ]
     },
     "execution_count": 28,
     "metadata": {},
     "output_type": "execute_result"
    }
   ],
   "source": [
    "l1"
   ]
  },
  {
   "cell_type": "code",
   "execution_count": 29,
   "id": "47fccf73-3896-48eb-8c51-ad92fba0b2a2",
   "metadata": {},
   "outputs": [],
   "source": [
    "l=[1,2,3,3,4,5,6,7,8]"
   ]
  },
  {
   "cell_type": "code",
   "execution_count": 2,
   "id": "5ca29c19-562c-4820-aca7-10bb1428cfc1",
   "metadata": {},
   "outputs": [
    {
     "ename": "NameError",
     "evalue": "name 'l' is not defined",
     "output_type": "error",
     "traceback": [
      "\u001b[0;31m---------------------------------------------------------------------------\u001b[0m",
      "\u001b[0;31mNameError\u001b[0m                                 Traceback (most recent call last)",
      "Cell \u001b[0;32mIn[2], line 1\u001b[0m\n\u001b[0;32m----> 1\u001b[0m \u001b[38;5;28;01mfor\u001b[39;00m i \u001b[38;5;129;01min\u001b[39;00m \u001b[43ml\u001b[49m:\n\u001b[1;32m      2\u001b[0m     \u001b[38;5;28mprint\u001b[39m(i\u001b[38;5;241m+\u001b[39m\u001b[38;5;241m1\u001b[39m)\n",
      "\u001b[0;31mNameError\u001b[0m: name 'l' is not defined"
     ]
    }
   ],
   "source": [
    "for i in l:\n",
    "    print(i+1)"
   ]
  },
  {
   "cell_type": "code",
   "execution_count": 3,
   "id": "6d7c1285-fb76-44fe-8054-24dc62d00bd8",
   "metadata": {},
   "outputs": [],
   "source": [
    "l=[1,2,3,3,4,5,6,7,8]\n"
   ]
  },
  {
   "cell_type": "code",
   "execution_count": 10,
   "id": "431e3c75-54ff-4389-b7b3-6a17ddf7596b",
   "metadata": {},
   "outputs": [
    {
     "name": "stdout",
     "output_type": "stream",
     "text": [
      "2\n",
      "3\n",
      "4\n",
      "4\n",
      "5\n",
      "6\n",
      "7\n",
      "8\n",
      "9\n"
     ]
    },
    {
     "data": {
      "text/plain": [
       "[2, 3, 4, 4, 5, 6, 7, 8, 9]"
      ]
     },
     "execution_count": 10,
     "metadata": {},
     "output_type": "execute_result"
    }
   ],
   "source": [
    "l1=[]\n",
    "for i in l:\n",
    "    print(i+1)\n",
    "    l1.append(i+1)\n",
    "l1\n",
    "    "
   ]
  },
  {
   "cell_type": "code",
   "execution_count": 8,
   "id": "9afb820d-1fa0-486a-94cb-f539688d9cf9",
   "metadata": {},
   "outputs": [
    {
     "ename": "SyntaxError",
     "evalue": "invalid syntax (253789707.py, line 1)",
     "output_type": "error",
     "traceback": [
      "\u001b[0;36m  Cell \u001b[0;32mIn[8], line 1\u001b[0;36m\u001b[0m\n\u001b[0;31m    l1 []\u001b[0m\n\u001b[0m        ^\u001b[0m\n\u001b[0;31mSyntaxError\u001b[0m\u001b[0;31m:\u001b[0m invalid syntax\n"
     ]
    }
   ],
   "source": []
  },
  {
   "cell_type": "code",
   "execution_count": 13,
   "id": "387bc9aa-845c-495e-908e-5d1c2f61b361",
   "metadata": {},
   "outputs": [],
   "source": [
    "l=[\"sudh\" ,\"kumar\",\"pwskills\" ,\"course\"]"
   ]
  },
  {
   "cell_type": "code",
   "execution_count": 14,
   "id": "7db01058-41f9-4b01-b291-d483fc83d968",
   "metadata": {},
   "outputs": [
    {
     "name": "stdout",
     "output_type": "stream",
     "text": [
      "sudh\n",
      "kumar\n",
      "pwskills\n",
      "course\n"
     ]
    }
   ],
   "source": [
    "for i in l:\n",
    "    print(i)"
   ]
  },
  {
   "cell_type": "code",
   "execution_count": 15,
   "id": "b56405ed-b3c2-499d-97ad-d1b6878ee7cd",
   "metadata": {},
   "outputs": [
    {
     "name": "stdout",
     "output_type": "stream",
     "text": [
      "sudh\n",
      "kumar\n",
      "pwskills\n",
      "course\n"
     ]
    }
   ],
   "source": [
    "l1=[]\n",
    "for i in l:\n",
    "    print(i)\n",
    "    l1.append(i.upper())"
   ]
  },
  {
   "cell_type": "code",
   "execution_count": 16,
   "id": "b3517cd1-f939-4ba9-8b00-5ee57bae9567",
   "metadata": {},
   "outputs": [
    {
     "data": {
      "text/plain": [
       "['SUDH', 'KUMAR', 'PWSKILLS', 'COURSE']"
      ]
     },
     "execution_count": 16,
     "metadata": {},
     "output_type": "execute_result"
    }
   ],
   "source": [
    "l1"
   ]
  },
  {
   "cell_type": "code",
   "execution_count": 17,
   "id": "d15664e3-9b00-4e1a-a765-e82a5cc03b64",
   "metadata": {},
   "outputs": [],
   "source": [
    "l=[1,2,3,4,\"sudh\",\"kumar\",435,465.34,\"acs\"]"
   ]
  },
  {
   "cell_type": "code",
   "execution_count": 18,
   "id": "d053e808-8fe0-448d-83ea-e7bd17de4ade",
   "metadata": {},
   "outputs": [],
   "source": [
    "l1_num=[]\n",
    "l2_str=[]\n",
    "for i in l:\n",
    "    if type(i)==int or type(i)==float:\n",
    "        l1_num.append(i)\n",
    "    else:\n",
    "        l2_str.append(i)\n",
    "        "
   ]
  },
  {
   "cell_type": "code",
   "execution_count": 19,
   "id": "c0ef7372-be0d-4d39-b13c-eba092f96a8c",
   "metadata": {},
   "outputs": [
    {
     "data": {
      "text/plain": [
       "[1, 2, 3, 4, 435, 465.34]"
      ]
     },
     "execution_count": 19,
     "metadata": {},
     "output_type": "execute_result"
    }
   ],
   "source": [
    "l1_num"
   ]
  },
  {
   "cell_type": "code",
   "execution_count": 20,
   "id": "966fb3d7-a8c9-43f0-b5b2-94157d0ac40a",
   "metadata": {},
   "outputs": [
    {
     "data": {
      "text/plain": [
       "['sudh', 'kumar', 'acs']"
      ]
     },
     "execution_count": 20,
     "metadata": {},
     "output_type": "execute_result"
    }
   ],
   "source": [
    "l2_str"
   ]
  },
  {
   "cell_type": "code",
   "execution_count": null,
   "id": "c26948fa-0ae9-4fcc-b970-b4ad81d91dbf",
   "metadata": {},
   "outputs": [],
   "source": []
  }
 ],
 "metadata": {
  "kernelspec": {
   "display_name": "Python 3 (ipykernel)",
   "language": "python",
   "name": "python3"
  },
  "language_info": {
   "codemirror_mode": {
    "name": "ipython",
    "version": 3
   },
   "file_extension": ".py",
   "mimetype": "text/x-python",
   "name": "python",
   "nbconvert_exporter": "python",
   "pygments_lexer": "ipython3",
   "version": "3.10.8"
  }
 },
 "nbformat": 4,
 "nbformat_minor": 5
}
